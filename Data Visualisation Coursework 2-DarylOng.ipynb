{
 "cells": [
  {
   "cell_type": "markdown",
   "id": "e40134e7",
   "metadata": {
    "pycharm": {
     "name": "#%% md\n"
    }
   },
   "source": [
    "# <em>Coursework 2</em>\n",
    "# Singapore's consumer preference for Electric vehicles (EVs) & the extent of climate change being a factor\n",
    "\n",
    "<p>\n",
    "With the proliferation of Electric Vehicles(EV) production across the globe, it has become an essential topic to find out how the general public perceive this relatively new field. Various issues such as dwindling natural resources and excessive by-product of carbon emission from the result of vehicle combustion, the conversion to EV could have very impactful meaning towards the course on aiding climate change. In this project, i aim to find out what is the perception of the public in context of Singapore towards this market and the extent which climate change being the factor behind that perception.\n",
    "</p>\n",
    "\n",
    "<p><strong>Objectives for this project are laid out with following aims:</strong></p>\n",
    "\n",
    "* 1.) - Capture a sample size of data regarding EV from Singapore public.\n",
    "\n",
    "* 2.) - Source for alternative credible data or report for reference study.\n",
    "\n",
    "* 3.) - Initialize and set-up the data in forms suitable for analysis.\n",
    "\n",
    "* 4.) - Visualize and capture all results in presentable forms.\n",
    "\n",
    "* 5.) - Critically analyze data to obtain valuable insights.\n",
    "\n",
    "* 6.) - Cross-analyze results with reference studies for further consolidations.\n",
    "\n",
    "* 7.) - Conclude on findings and present with final results.\n",
    "\n",
    "<strong><em>Moving forward, i will indicate whenever if some lines from CW1 maybe be cross-quoted.</em></strong>"
   ]
  },
  {
   "cell_type": "markdown",
   "id": "cf908fea",
   "metadata": {
    "pycharm": {
     "name": "#%% md\n"
    }
   },
   "source": [
    "## Introduction\n",
    "* <b>Topic overview & Relevant information</b>\n",
    "\n",
    "<p>\n",
    "    Towards the topic of EV adoption, it has always been mixed responses across the general information available. Some are all for that new piece of technology due to its novelty or environment contributing factor. Others might be worried there might be unseen issues such as insufficient charging stations or general worries on a novel piece of technology that has not been out in the market before. Not only does the EV market aid towards the economic factor, it also contributes greatly to a bigger cause, the improvement to climate change. “Changes of one or two degrees in the average temperature of the planet can cause potentially dangerous shifts in climate and weather. For example, many places have experienced changes in rainfall, resulting in more floods, droughts, or intense rain, as well as more frequent and severe heat waves. “(“Impacts of Climate Change”, p1) stated in an article post made in EPA US government site shows how impactful our current state of climate change has already affected populations across the globe. This situation is in grave need of attention hence researchers has been searching for a suitable solution to this problem. So how can the mass adoption of EV aid to this cause? As explained by the article made in Gale Science scope,“Overall, when accounting for the emissions today from the power plants that provide the electricity, this would lead to about a 30% reduction in emissions from transportation” (Science scope, 10/2016, p6). This shows that when convertion from consuming natural fossil fuels to electricity power happens, it serves to tremendously cut the carbon emission rate which is the main cause of climate change.\n",
    "</p>\n",
    "<p>\n",
    "    In efforts to combat this global phenomenon, Singapore has also launched their own initiatives against climate change. Targets of net zero carbon emission has been announced with policies rolled out in order to take action in support to this movement. According to a press release posted by Ernst & Young Solutions, \"Overall, half (global 50%, Singapore 49%) of those surveyed say they expect to buy a car (EV or combustion engine), up 17 percentage points globally (Singapore 22 percentage points) increase from the November findings, with 65% of global respondents (Singapore 46%) saying that they would buy one in the next 12 months.\"(\"Five in ten Singapore consumers plan electric vehicle purchase as market moves into high gear\", p1). In regards to this survey study, it seems to suggest that Singaporeans are keen towards the idea of EV adoption. In this project, we aim to launch our own version or study to find out in our sample size if this finding is consistent and to what extent does climate change has to do to this decision. Also, I have obtained an external dataset published in \"data.gov.sg\" providing motor vehicle purchases and its categories spanning across years from 2016 to 2020. We will utilize this external data to compare it to our findings if that data is consistent with our conclusion from the participants of this survey project. This study has a similar goal to my current project and hence it serves as a good anchor point of reference to my study results.\n",
    "</p>\n",
    "\n",
    "<p>\n",
    "   To find out what are the driving factors behind the decision making of EV adoption is crucial. It serves to further cement different strategies and solution on this quest to promote EV adoption and ultimately aid the cause of global climate change. For example, if the census is that participants are already interested in buying EV but not interested in the cause of aiding climate change, it shows to a certain point of emphasis that the population generally may not be receptive to promotions with climate change being the main focal point. They may just be interested in the new technology available, cost saving or other factors. This can structurally change the field in terms of how we market this idea towards the general public in future hence the analysis behind the results of this project can be immensely impactful.\n",
    "</p>\n",
    "\n",
    "* <b>Objectives & Motivations</b> \n",
    "\n",
    "<p>\n",
    "    On the note of understanding EV adoption in the minds of general public, the main objectives of this project has to be set clear in order for a successful and concise conclusion. To achieve this aim, the below objectives are listed to outline the main focal points of this project to ensure the smooth execution.\n",
    "</p>\n",
    "\n",
    "<b> Understanding public sentiments towards preference during automobile purchase. </b>\n",
    "\n",
    "<p>\n",
    "    To understand the perception towards EV adoption in regards to the general public, we must first understand what are the different deciding factors behind a generic automobile car purchase. Engaging in surveys would be the ideal choice for this case as collecting qualitative data. By finding out what are the main driving factors behind an automobile purchase, we can easily highlight the main factors that EV concerns parties could target and focus on. Questions such as ranking the different features during a car purchase could tell a story on what the consumer is valuing the most during purchase hence a better marketing strategy could be formed from the responses of the participants. For example if results shows that most consumers are more interested in the aesthetics and technical attributes of a car make than the aspects of cost savings, we will know that by promoting the low cost in terms of recharging aspect in EV adoption during marketing strategizing would be fruitless and therefore should avoid that pithole when attempting to market in context of Singapore.\n",
    "</p>\n",
    "\n",
    "<b> Further understand what role does Social responsibility play when purchasing automobile. </b>\n",
    "    \n",
    "<p>\n",
    "    In addition to above factors when purchasing an automobile, how much does an average singaporean cares about climate change? This question will shape the plan when it comes to pushing out ideas to the public as well. In comparison to the more technical aspects of an automobile during purchase such as aesthetics & performance, how much does an average buyer would trade for it being an EV that contributes to the cause of climate change? Is an average consumer of the automobile market in Singapore actually aware of the situation regarding climate change? These questions will be focused and laid out within the questions of my survey as well. All these answers gathered serves important purposes as it not only shapes marketing strategies in future when different stakeholders would want to understand how it affects marketing project, it also affects out-reach programmes from other stakeholders such as governmental bodies to understand the extent of understanding our average Singaporean has towards climate change.\n",
    "</p>\n",
    "\n",
    "<b> Strategizing an optimal approach for plans to promote EV adoption. </b>\n",
    "\n",
    "<p>\n",
    "    When it comes to strategizing for a campaign, it is crucial to understand what are the main focal points to target in regards to the target audience. By analysing the results from this project, we can understand further what are the important points and worries an average singaporean has when it comes to purchase of an automobile. Questions that encapsulates the bigger details such as budgeting for an EV switch, the willingness to trade-off for switching into an EV will be posted to participants and it serves important role to understand how receptive participants are in the switch to EV. These will all be invaluable information not only for marketing strategies but also when formulating corporate roadmap plannings.\n",
    "</p>\n",
    "\n",
    "* <b>Key Findings</b>\n",
    "\n",
    "<p>\n",
    "</p>\n"
   ]
  },
  {
   "cell_type": "markdown",
   "id": "505bf416",
   "metadata": {
    "pycharm": {
     "name": "#%% md\n"
    }
   },
   "source": [
    "## Research  topic\n",
    "\n",
    "* <b>Population & Sampling methods</b>\n",
    "\n",
    "<p>\n",
    "    Strong survey results come from proper planning of the sampling methods. When conducting a survey research project its seldom possible to draw a response from every single member of the populace, hence a sampling method is essential to obtain a partial data from a small group of participants from the population. In this context, we are conducting the study in context of Singapore, hence the decision on the method to draw sample from this population is crucial. The following shows the method i am planning to utilize for this project.\n",
    "</p>\n",
    "\n",
    "<b> Probability sampling method - Simple random sample</b>\n",
    "\n",
    "<p>\n",
    "    To understand the situation of EV perception in regards to the whole Singapore context, it is commonly known to go for the current car owners of the population. However, the main objective of this project is also to find out the extent of understanding towards climate change. Hence, i wouldn't want to rule out the chance of obtaining data even from potential car owners as well. This will allow us to obtain a more dynamic results as compared to only pick out specific group of participants which may contain skewed and biased results. For the purposes of a follow-up study, i could propose a stratified sampling method if i were to take this project further. This sampling method could then further split the population into sub-populations which may tell us a bigger story as to which aspects of automobile purchase could differ from different strata of the population. To conclude, in order to capture the most un-biased and average response from the population, I would utilize the simple random sample for this project. My survey is sent out towards the general public thread hence is open to the general public regardless of profiles such as being a car-owner or age range. This will allow for the results to be more un-biased and general for a fair and accurate analysis for my study.\n",
    "</p>\n",
    "\n",
    "\n",
    "* <b>Research Questions</b> \n",
    "\n",
    "<b> To understand participant’s general attitudes towards climate change. </b>\n",
    "\n",
    "<p>\n",
    "    More than 9 in 10 (95.4 per cent) support Singapore making a shift to a low carbon economy. (Climate Change Public Perception Survey 2019, p.1). As the National Climate Change Secretariat of Singapore (NCCS) states, there are general high amount of consent towards the attitude of climate change in Singapore. However, it is easy to state that you support this cause without putting into actions. This study seeks to explore in-depth with aiding Climate change in mind, how receptive are participants to switch from EV from traditional vehicles for its perceived advantages and disadvantages. \"More than 8 in 10 (84.8 per cent) strongly believe that climate change is already happening and will affect our future generations if we do nothing. However, only about half of them (48.3 per cent) know what to do to help address climate change.\"(Climate Change Public Perception Survey 2019, p.1). As published by NCCS, the public in Singapore are very willing on the topic of Climate change aid. However, less than half is aware of what they can do to contribute. With this study, we can aim to discover the amount of investment required to educate public on the advantages of EV switch with reference to aiding in Climate change cause.\n",
    "</p>\n",
    "\n",
    "<b> To understand participant’s main motivation & concerns when making automobile purchase. </b>\n",
    "    \n",
    "<p>\n",
    "    \"The successful mass adoption of EVs, however, depends not only on the technology and the associated infrastructure, but also on consumer behavior in adopting this new technology\" (Michael K. Lim et al, p.101). In order to promote a successful adoption of this EV market, to understand consumer behaviour and preference is of utmost importance. Numerous previous studies cites the factors such as financial, technical, infrastructure and policy attributes. But little denotes the importance of bundling the purpose of aiding Climate change into the equation. This study hopes to bring a clearer picture as to how this cause will aid the decision on a switch to EV thus may effectively alter marketing efforts.\n",
    "\n",
    "</p>\n",
    "\n",
    "<b> To understand the optimal approach in encouraging the switch to EV. </b>\n",
    "\n",
    "<p>\n",
    "    There are numerous underlying factors revolving around a decision on a switch to EV, however how much of a weightage are each of them and how does each of them contribute ultimately to the decision of switch.\"Since EV is still relatively new and unfamiliar to most people and is continuing to develop, people’s preferences are expected to evolve along with technological progress, familiarity with EV, market penetration, social influence, etc.\"(Liao Fanchao, p. 262.) So what is the situation of this change currently in context of Singapore? What are the main issues to tackle when approaching from viewpoint of marketing and increase awareness regarding EV switch? We seek to get a clearer picture of this through this study.\n",
    "\n",
    "<strong><em>Some of the contents are quoted from CW1, please refer to part 1 for specific narratives.</em></strong>"
   ]
  },
  {
   "cell_type": "markdown",
   "id": "e403bd7d",
   "metadata": {
    "pycharm": {
     "name": "#%% md\n"
    }
   },
   "source": [
    "## Data collection / Survey design\n",
    "\n",
    "* <b>Data collection methods</b>\n",
    "\n",
    "<p>\n",
    "    In this project, we are utilizing an internet survey method in form of a questionnaire to obtain results regarding to the perception of EV market in Singapore. As discussed previously, it is imperative to collect results that are un-biased and as generalised as possible. Hence the target audience of this survey was not chosen on any basis and is distributed generically upon word-of-mouth and internet thread groups of generic public. It may be slightly skewed by age base and the group of participants especially my personal close circle are more of my age. However, the results should be un-biased towards any specific factor such as being a car owner or in a interest group that may have biase for climate changes.\n",
    "</p>\n",
    "\n",
    "* <b>Survey design</b>\n",
    "\n",
    "<p>\n",
    "    For my survey design, it is crafted specfically to answer my research questions in forms that can give insight from multiple point of views. Questions such as driving factors during car purchase and situational question that put participants in shoes of an EV car owner will all bring invaluable insights when critically analysed. For example, the rating on importance of having clean energy could very well be cross-analysed with main car purchasing factors for a multi-variate analysis. Overall, most the of questions are spread in a way where we can understand the different driving factors from a car purchase decision and the willingness of participant to aid the course of climate change. These can then be cross-analysed and provide results in order to answer the research questions set out for this project.\n",
    "</p>"
   ]
  },
  {
   "cell_type": "markdown",
   "id": "dbe63e92",
   "metadata": {
    "pycharm": {
     "name": "#%% md\n"
    }
   },
   "source": [
    "## Data overview and pre-processing"
   ]
  },
  {
   "cell_type": "code",
   "execution_count": 1,
   "id": "3f44993b",
   "metadata": {
    "pycharm": {
     "name": "#%%\n"
    }
   },
   "outputs": [
    {
     "name": "stdout",
     "output_type": "stream",
     "text": [
      "   Unique Response Number 1. What is your age range?  \\\n",
      "0  821653-821644-91277961                    30 - 39   \n",
      "1  821653-821644-91278140                    30 - 39   \n",
      "2  821653-821644-91278177                    21 - 29   \n",
      "3  821653-821644-91279087                    30 - 39   \n",
      "4  821653-821644-91279115                    30 - 39   \n",
      "\n",
      "  2. What is your income range? (In SGD)  \\\n",
      "0                            3001 - 5000   \n",
      "1                            5001 - 7000   \n",
      "2                            1000 - 3000   \n",
      "3                            3001 - 5000   \n",
      "4                            1000 - 3000   \n",
      "\n",
      "   3. Are you a car owner or aspiring to buy one?  \\\n",
      "0  Not yet, but aspires to get one in the future.   \n",
      "1                 Not car owner & not interested.   \n",
      "2  Not yet, but aspires to get one in the future.   \n",
      "3  Not yet, but aspires to get one in the future.   \n",
      "4                                      Undecided.   \n",
      "\n",
      "  4. Are you aware of the emergence of Electrical vehicles(EV) in the current car market?  \\\n",
      "0                                             Aware.                                        \n",
      "1                        Not aware & not interested.                                        \n",
      "2                                             Aware.                                        \n",
      "3                                             Aware.                                        \n",
      "4                                             Aware.                                        \n",
      "\n",
      "   5. How likely is it that you would purchase or recommend an EV(Electrical Vehicle) purchase?  \\\n",
      "0                                                NaN                                              \n",
      "1                                                NaN                                              \n",
      "2                                                NaN                                              \n",
      "3                                                NaN                                              \n",
      "4                                                NaN                                              \n",
      "\n",
      "  5.1. Not likely to extremely likely  \\\n",
      "0                                   4   \n",
      "1                      1 - Not likely   \n",
      "2                                   3   \n",
      "3                                   4   \n",
      "4                                   3   \n",
      "\n",
      "   6. Which of the following would be your main factor if you were to purchase a car? Rank the following in order – 1 being least important and 5 being most important.  \\\n",
      "0                                                NaN                                                                                                                      \n",
      "1                                                NaN                                                                                                                      \n",
      "2                                                NaN                                                                                                                      \n",
      "3                                                NaN                                                                                                                      \n",
      "4                                                NaN                                                                                                                      \n",
      "\n",
      "            6.1. Brand           6.2. Cost  ...  \\\n",
      "0  1 - Least important  5 - Most important  ...   \n",
      "1   5 - Most important                   4  ...   \n",
      "2  1 - Least important                   4  ...   \n",
      "3                    2  5 - Most important  ...   \n",
      "4  1 - Least important  5 - Most important  ...   \n",
      "\n",
      "  11. What is the maximum budget you would be willing to afford additionally for a switch into an Electric Vehicle? (In SGD, 0 if not interested at all)  \\\n",
      "0                                              10000                                                                                                       \n",
      "1                                                  0                                                                                                       \n",
      "2                                                  0                                                                                                       \n",
      "3                                             Unsure                                                                                                       \n",
      "4                                                 $0                                                                                                       \n",
      "\n",
      "  12. Are you aware of the electrical vehicle industry and its effect on climate change.  \\\n",
      "0                                                NaN                                       \n",
      "1                                                NaN                                       \n",
      "2                                                NaN                                       \n",
      "3                                                NaN                                       \n",
      "4                                                NaN                                       \n",
      "\n",
      "  12.1. Not aware to extremely informed  \\\n",
      "0                5 - Extremely informed   \n",
      "1                                   NaN   \n",
      "2                                     4   \n",
      "3                5 - Extremely informed   \n",
      "4                                     3   \n",
      "\n",
      "   13. Are factors towards aiding Climate change likely to be a contributing factor in your decision to switch to Electrical Vehicles?  \\\n",
      "0                                                NaN                                                                                     \n",
      "1                                                NaN                                                                                     \n",
      "2                                                NaN                                                                                     \n",
      "3                                                NaN                                                                                     \n",
      "4                                                NaN                                                                                     \n",
      "\n",
      "  13.1. Not likely to extremely likely  \\\n",
      "0                                    3   \n",
      "1                       1 - Not likely   \n",
      "2                                    3   \n",
      "3                 5 - Extremely likely   \n",
      "4                                    3   \n",
      "\n",
      "  14. Would you make a switch to Electric vehicles if other factors remain constant? (I.E cost, model, performance of car remains the same)  \\\n",
      "0                                                NaN                                                                                          \n",
      "1                                                NaN                                                                                          \n",
      "2                                                NaN                                                                                          \n",
      "3                                                NaN                                                                                          \n",
      "4                                                NaN                                                                                          \n",
      "\n",
      "  14.1. Not likely to extremely likely  \\\n",
      "0                 5 - Extremely likely   \n",
      "1                       1 - Not likely   \n",
      "2                 5 - Extremely likely   \n",
      "3                 5 - Extremely likely   \n",
      "4                                    4   \n",
      "\n",
      "  15. How receptive are you towards information of Electric vehicles & its effect on aiding Climate change?  \\\n",
      "0                                                NaN                                                          \n",
      "1                                                NaN                                                          \n",
      "2                                                NaN                                                          \n",
      "3                                                NaN                                                          \n",
      "4                                                NaN                                                          \n",
      "\n",
      "  15.1. Not receptive to extremely receptive CompletionDate  \n",
      "0                                          4       7/3/2022  \n",
      "1                          1 - Not receptive       7/3/2022  \n",
      "2                                          4       7/3/2022  \n",
      "3                    5 - Extremely receptive       7/3/2022  \n",
      "4                          1 - Not receptive       7/3/2022  \n",
      "\n",
      "[5 rows x 33 columns]\n",
      "    Unique Response Number 1. What is your age range?  \\\n",
      "45  821653-821644-91503828                    51 - 65   \n",
      "46  821653-821644-91503843                    40 - 41   \n",
      "47  821653-821644-91503950                    40 - 41   \n",
      "48  821653-821644-91503938                    21 - 29   \n",
      "49  821653-821644-91504629                    40 - 41   \n",
      "\n",
      "   2. What is your income range? (In SGD)  \\\n",
      "45                            5001 - 7000   \n",
      "46                           7001 - 10000   \n",
      "47                            5001 - 7000   \n",
      "48                            3001 - 5000   \n",
      "49                            5001 - 7000   \n",
      "\n",
      "   3. Are you a car owner or aspiring to buy one?  \\\n",
      "45                             Current car owner.   \n",
      "46                             Current car owner.   \n",
      "47                             Current car owner.   \n",
      "48                Not car owner & not interested.   \n",
      "49                             Current car owner.   \n",
      "\n",
      "   4. Are you aware of the emergence of Electrical vehicles(EV) in the current car market?  \\\n",
      "45                        Not aware & not interested.                                        \n",
      "46                                             Aware.                                        \n",
      "47          Not aware but keen to know more about it.                                        \n",
      "48                                             Aware.                                        \n",
      "49                                             Aware.                                        \n",
      "\n",
      "    5. How likely is it that you would purchase or recommend an EV(Electrical Vehicle) purchase?  \\\n",
      "45                                                NaN                                              \n",
      "46                                                NaN                                              \n",
      "47                                                NaN                                              \n",
      "48                                                NaN                                              \n",
      "49                                                NaN                                              \n",
      "\n",
      "   5.1. Not likely to extremely likely  \\\n",
      "45                                   4   \n",
      "46                                   4   \n",
      "47                                   3   \n",
      "48                5 - Extremely likely   \n",
      "49                                   4   \n",
      "\n",
      "    6. Which of the following would be your main factor if you were to purchase a car? Rank the following in order – 1 being least important and 5 being most important.  \\\n",
      "45                                                NaN                                                                                                                      \n",
      "46                                                NaN                                                                                                                      \n",
      "47                                                NaN                                                                                                                      \n",
      "48                                                NaN                                                                                                                      \n",
      "49                                                NaN                                                                                                                      \n",
      "\n",
      "   6.1. Brand           6.2. Cost  ...  \\\n",
      "45          2                   3  ...   \n",
      "46          2  5 - Most important  ...   \n",
      "47          3                   4  ...   \n",
      "48          3                   4  ...   \n",
      "49          3  5 - Most important  ...   \n",
      "\n",
      "   11. What is the maximum budget you would be willing to afford additionally for a switch into an Electric Vehicle? (In SGD, 0 if not interested at all)  \\\n",
      "45                                                 70                                                                                                       \n",
      "46                                              35000                                                                                                       \n",
      "47                                                 80                                                                                                       \n",
      "48                                             100000                                                                                                       \n",
      "49                                              25000                                                                                                       \n",
      "\n",
      "   12. Are you aware of the electrical vehicle industry and its effect on climate change.  \\\n",
      "45                                                NaN                                       \n",
      "46                                                NaN                                       \n",
      "47                                                NaN                                       \n",
      "48                                                NaN                                       \n",
      "49                                                NaN                                       \n",
      "\n",
      "   12.1. Not aware to extremely informed  \\\n",
      "45                                     3   \n",
      "46                                     4   \n",
      "47                                     4   \n",
      "48                                     4   \n",
      "49                                     4   \n",
      "\n",
      "    13. Are factors towards aiding Climate change likely to be a contributing factor in your decision to switch to Electrical Vehicles?  \\\n",
      "45                                                NaN                                                                                     \n",
      "46                                                NaN                                                                                     \n",
      "47                                                NaN                                                                                     \n",
      "48                                                NaN                                                                                     \n",
      "49                                                NaN                                                                                     \n",
      "\n",
      "   13.1. Not likely to extremely likely  \\\n",
      "45                                    4   \n",
      "46                 5 - Extremely likely   \n",
      "47                                    4   \n",
      "48                                    3   \n",
      "49                                    3   \n",
      "\n",
      "   14. Would you make a switch to Electric vehicles if other factors remain constant? (I.E cost, model, performance of car remains the same)  \\\n",
      "45                                                NaN                                                                                          \n",
      "46                                                NaN                                                                                          \n",
      "47                                                NaN                                                                                          \n",
      "48                                                NaN                                                                                          \n",
      "49                                                NaN                                                                                          \n",
      "\n",
      "   14.1. Not likely to extremely likely  \\\n",
      "45                                    3   \n",
      "46                                    4   \n",
      "47                                    4   \n",
      "48                                    4   \n",
      "49                                    4   \n",
      "\n",
      "   15. How receptive are you towards information of Electric vehicles & its effect on aiding Climate change?  \\\n",
      "45                                                NaN                                                          \n",
      "46                                                NaN                                                          \n",
      "47                                                NaN                                                          \n",
      "48                                                NaN                                                          \n",
      "49                                                NaN                                                          \n",
      "\n",
      "   15.1. Not receptive to extremely receptive CompletionDate  \n",
      "45                                          3      10/3/2022  \n",
      "46                                          4      10/3/2022  \n",
      "47                                          4      10/3/2022  \n",
      "48                                          3      10/3/2022  \n",
      "49                                          4      10/3/2022  \n",
      "\n",
      "[5 rows x 33 columns]\n"
     ]
    }
   ],
   "source": [
    "#First import all the libraries that we will utilize further down the project\n",
    "\n",
    "import seaborn as sns\n",
    "import matplotlib.pyplot as plt\n",
    "import csv\n",
    "from datetime import datetime\n",
    "import requests\n",
    "import pandas as pd\n",
    "import numpy as np\n",
    "\n",
    "#Reforming the survey data into dataframe\n",
    "\n",
    "df_datatemp = pd.read_csv(\"results-for-dsm050-1.csv\", index_col= None)\n",
    "\n",
    "df_survey = pd.DataFrame(df_datatemp)\n",
    "\n",
    "#Brief look at the loaded file\n",
    "\n",
    "print(df_survey.head())\n",
    "print(df_survey.tail())"
   ]
  },
  {
   "cell_type": "code",
   "execution_count": 2,
   "id": "b7a33bfd",
   "metadata": {
    "scrolled": true,
    "pycharm": {
     "name": "#%%\n"
    }
   },
   "outputs": [
    {
     "name": "stdout",
     "output_type": "stream",
     "text": [
      "<class 'pandas.core.frame.DataFrame'>\n",
      "RangeIndex: 50 entries, 0 to 49\n",
      "Data columns (total 33 columns):\n",
      " #   Column                                                                                                                                                                Non-Null Count  Dtype  \n",
      "---  ------                                                                                                                                                                --------------  -----  \n",
      " 0   Unique Response Number                                                                                                                                                50 non-null     object \n",
      " 1   1. What is your age range?                                                                                                                                            50 non-null     object \n",
      " 2   2. What is your income range? (In SGD)                                                                                                                                50 non-null     object \n",
      " 3   3. Are you a car owner or aspiring to buy one?                                                                                                                        50 non-null     object \n",
      " 4   4. Are you aware of the emergence of Electrical vehicles(EV) in the current car market?                                                                               50 non-null     object \n",
      " 5   5. How likely is it that you would purchase or recommend an EV(Electrical Vehicle) purchase?                                                                          0 non-null      float64\n",
      " 6   5.1. Not likely to extremely likely                                                                                                                                   50 non-null     object \n",
      " 7   6. Which of the following would be your main factor if you were to purchase a car? Rank the following in order – 1 being least important and 5 being most important.  0 non-null      float64\n",
      " 8   6.1. Brand                                                                                                                                                            48 non-null     object \n",
      " 9   6.2. Cost                                                                                                                                                             49 non-null     object \n",
      " 10  6.3. Technical attributes (I.E Fuel efficiency, drive performance)                                                                                                    49 non-null     object \n",
      " 11  6.4. Aesthetics (Looks of the vehicle)                                                                                                                                48 non-null     object \n",
      " 12  6.5. Social responsibility (I.E Low carbon emission rates)                                                                                                            48 non-null     object \n",
      " 13  7. If you were to own an Electrical vehicle, what would be your main concern? Rank the following in order – 1 being least concerned and 5 being Most concerned.       0 non-null      float64\n",
      " 14  7.1. Number of charging stations.                                                                                                                                     49 non-null     object \n",
      " 15  7.2. Maintenance costs.                                                                                                                                               48 non-null     object \n",
      " 16  7.3. Battery life. (Fuel capacity for car)                                                                                                                            49 non-null     object \n",
      " 17  7.4. Car interface.                                                                                                                                                   48 non-null     object \n",
      " 18  7.5. General confidence in the safety and quality of manufacture.                                                                                                     48 non-null     object \n",
      " 19  8. What is the minimum charging cost you can accept for an Electric Vehicle's maximum full battery charge? (In SGD)                                                   48 non-null     object \n",
      " 20  9. On a scale of 1-5, how would you rate the importance of having clean energy on your car?                                                                           0 non-null      float64\n",
      " 21  9.1. Not important to extremely important                                                                                                                             50 non-null     object \n",
      " 22  10. How would you describe your attitude towards climate change?                                                                                                      50 non-null     object \n",
      " 23  11. What is the maximum budget you would be willing to afford additionally for a switch into an Electric Vehicle? (In SGD, 0 if not interested at all)                48 non-null     object \n",
      " 24  12. Are you aware of the electrical vehicle industry and its effect on climate change.                                                                                0 non-null      float64\n",
      " 25  12.1. Not aware to extremely informed                                                                                                                                 49 non-null     object \n",
      " 26  13. Are factors towards aiding Climate change likely to be a contributing factor in your decision to switch to Electrical Vehicles?                                   0 non-null      float64\n",
      " 27  13.1. Not likely to extremely likely                                                                                                                                  50 non-null     object \n",
      " 28  14. Would you make a switch to Electric vehicles if other factors remain constant? (I.E cost, model, performance of car remains the same)                             0 non-null      float64\n",
      " 29  14.1. Not likely to extremely likely                                                                                                                                  50 non-null     object \n",
      " 30  15. How receptive are you towards information of Electric vehicles & its effect on aiding Climate change?                                                             0 non-null      float64\n",
      " 31  15.1. Not receptive to extremely receptive                                                                                                                            50 non-null     object \n",
      " 32  CompletionDate                                                                                                                                                        50 non-null     object \n",
      "dtypes: float64(8), object(25)\n",
      "memory usage: 13.0+ KB\n",
      "None\n"
     ]
    }
   ],
   "source": [
    "#Checking the loaded file\n",
    "\n",
    "print(df_survey.info())"
   ]
  },
  {
   "cell_type": "code",
   "execution_count": 17,
   "id": "1055abe8",
   "metadata": {
    "pycharm": {
     "name": "#%%\n"
    }
   },
   "outputs": [
    {
     "name": "stdout",
     "output_type": "stream",
     "text": [
      "     month category                       type  number\n",
      "0  2016-01     Cars                     Petrol  586980\n",
      "1  2016-01     Cars                     Diesel    6297\n",
      "2  2016-01     Cars            Petrol-Electric    6476\n",
      "3  2016-01     Cars  Petrol-Electric (Plug-In)     108\n",
      "4  2016-01     Cars                 Petrol-CNG    1917\n",
      "        month category             type  number\n",
      "1379  2020-01    Buses           Diesel   19270\n",
      "1380  2020-01    Buses       Petrol-CNG       0\n",
      "1381  2020-01    Buses              CNG       0\n",
      "1382  2020-01    Buses         Electric      24\n",
      "1383  2020-01    Buses  Diesel-Electric      50\n"
     ]
    }
   ],
   "source": [
    "#Reforming the motor vehicle external data into dataframe.\n",
    "\n",
    "df_datatemp = pd.read_csv(\"motor-vehicle-population-statistics-by-type-of-fuel-used.csv\", index_col= None)\n",
    "\n",
    "df_extdata = pd.DataFrame(df_datatemp)\n",
    "\n",
    "#Brief look at the loaded file\n",
    "\n",
    "print(df_extdata.head())\n",
    "print(df_extdata.tail())"
   ]
  },
  {
   "cell_type": "code",
   "execution_count": 20,
   "id": "47954aca",
   "metadata": {
    "pycharm": {
     "name": "#%%\n"
    }
   },
   "outputs": [
    {
     "name": "stdout",
     "output_type": "stream",
     "text": [
      "0        True\n",
      "1        True\n",
      "2        True\n",
      "3        True\n",
      "4        True\n",
      "        ...  \n",
      "1379    False\n",
      "1380    False\n",
      "1381    False\n",
      "1382    False\n",
      "1383    False\n",
      "Name: category, Length: 1384, dtype: bool\n",
      "(1384,)\n"
     ]
    }
   ],
   "source": [
    "#Filtering all values of interest in external data\n",
    "\n",
    "all_cars = df_extdata['category'] == 'Cars'\n",
    "print(all_cars)\n",
    "print(all_cars.shape)"
   ]
  },
  {
   "cell_type": "code",
   "execution_count": 26,
   "id": "de22ba17",
   "metadata": {
    "pycharm": {
     "name": "#%%\n"
    }
   },
   "outputs": [
    {
     "name": "stdout",
     "output_type": "stream",
     "text": [
      "        month category                       type  number\n",
      "0     2016-01     Cars                     Petrol  586980\n",
      "1     2016-01     Cars                     Diesel    6297\n",
      "2     2016-01     Cars            Petrol-Electric    6476\n",
      "3     2016-01     Cars  Petrol-Electric (Plug-In)     108\n",
      "4     2016-01     Cars                 Petrol-CNG    1917\n",
      "...       ...      ...                        ...     ...\n",
      "1358  2020-01     Cars  Petrol-Electric (Plug-In)     489\n",
      "1359  2020-01     Cars                 Petrol-CNG     244\n",
      "1360  2020-01     Cars                        CNG       0\n",
      "1361  2020-01     Cars                   Electric    1125\n",
      "1362  2020-01     Cars            Diesel-Electric      18\n",
      "\n",
      "[392 rows x 4 columns]\n"
     ]
    }
   ],
   "source": [
    "#Extracting filter using boolean operation\n",
    "\n",
    "df_all_cars = pd.DataFrame(df_extdata[all_cars])\n",
    "print(df_all_cars)"
   ]
  },
  {
   "cell_type": "code",
   "execution_count": 31,
   "id": "1cd12a36",
   "metadata": {
    "scrolled": true,
    "pycharm": {
     "name": "#%%\n"
    }
   },
   "outputs": [
    {
     "name": "stdout",
     "output_type": "stream",
     "text": [
      "        month category      type  number\n",
      "6     2016-01     Cars  Electric       1\n",
      "33    2016-02     Cars  Electric       2\n",
      "60    2016-03     Cars  Electric       2\n",
      "87    2016-04     Cars  Electric       2\n",
      "114   2016-05     Cars  Electric       2\n",
      "141   2016-06     Cars  Electric       2\n",
      "168   2016-07     Cars  Electric       2\n",
      "195   2016-08     Cars  Electric       2\n",
      "223   2016-09     Cars  Electric       3\n",
      "251   2016-10     Cars  Electric       4\n",
      "279   2016-11     Cars  Electric       5\n",
      "307   2016-12     Cars  Electric      12\n",
      "335   2017-01     Cars  Electric      12\n",
      "363   2017-02     Cars  Electric      12\n",
      "391   2017-03     Cars  Electric      12\n",
      "419   2017-04     Cars  Electric      12\n",
      "447   2017-05     Cars  Electric      12\n",
      "475   2017-06     Cars  Electric      12\n",
      "503   2017-07     Cars  Electric      12\n",
      "531   2017-08     Cars  Electric      22\n",
      "559   2017-09     Cars  Electric      33\n",
      "587   2017-10     Cars  Electric      37\n",
      "615   2017-11     Cars  Electric      93\n",
      "643   2017-12     Cars  Electric     314\n",
      "671   2018-01     Cars  Electric     335\n",
      "699   2018-02     Cars  Electric     346\n",
      "727   2018-03     Cars  Electric     348\n",
      "755   2018-04     Cars  Electric     353\n",
      "783   2018-05     Cars  Electric     354\n",
      "811   2018-06     Cars  Electric     358\n",
      "839   2018-07     Cars  Electric     363\n",
      "868   2018-08     Cars  Electric     406\n",
      "897   2018-09     Cars  Electric     443\n",
      "926   2018-10     Cars  Electric     462\n",
      "955   2018-11     Cars  Electric     466\n",
      "984   2018-12     Cars  Electric     560\n",
      "1013  2019-01     Cars  Electric     650\n",
      "1042  2019-02     Cars  Electric     676\n",
      "1071  2019-03     Cars  Electric     694\n",
      "1100  2019-04     Cars  Electric     729\n",
      "1129  2019-05     Cars  Electric     796\n",
      "1158  2019-06     Cars  Electric     832\n",
      "1187  2019-07     Cars  Electric     901\n",
      "1216  2019-08     Cars  Electric     962\n",
      "1245  2019-09     Cars  Electric    1036\n",
      "1274  2019-10     Cars  Electric    1109\n",
      "1303  2019-11     Cars  Electric    1112\n",
      "1332  2019-12     Cars  Electric    1120\n",
      "1361  2020-01     Cars  Electric    1125\n"
     ]
    }
   ],
   "source": [
    "#Repeating above operations for all Electric\n",
    "\n",
    "all_electric = df_all_cars['type'] == 'Electric'\n",
    "df_cars_electric = pd.DataFrame(df_all_cars[all_electric])\n",
    "print(df_cars_electric)"
   ]
  },
  {
   "cell_type": "code",
   "execution_count": 32,
   "id": "e302e0a8",
   "metadata": {
    "pycharm": {
     "name": "#%%\n"
    }
   },
   "outputs": [
    {
     "data": {
      "text/plain": [
       "month       0\n",
       "category    0\n",
       "type        0\n",
       "number      0\n",
       "dtype: int64"
      ]
     },
     "execution_count": 32,
     "metadata": {},
     "output_type": "execute_result"
    }
   ],
   "source": [
    "#Checking for NA\n",
    "\n",
    "df_cars_electric.isna().sum()"
   ]
  },
  {
   "cell_type": "code",
   "execution_count": 3,
   "id": "2779f2c7",
   "metadata": {
    "scrolled": true,
    "pycharm": {
     "name": "#%%\n"
    }
   },
   "outputs": [
    {
     "data": {
      "text/plain": [
       "Unique Response Number                                                                                                                                                   0\n",
       "1. What is your age range?                                                                                                                                               0\n",
       "2. What is your income range? (In SGD)                                                                                                                                   0\n",
       "3. Are you a car owner or aspiring to buy one?                                                                                                                           0\n",
       "4. Are you aware of the emergence of Electrical vehicles(EV) in the current car market?                                                                                  0\n",
       "5. How likely is it that you would purchase or recommend an EV(Electrical Vehicle) purchase?                                                                            50\n",
       "5.1. Not likely to extremely likely                                                                                                                                      0\n",
       "6. Which of the following would be your main factor if you were to purchase a car? Rank the following in order – 1 being least important and 5 being most important.    50\n",
       "6.1. Brand                                                                                                                                                               2\n",
       "6.2. Cost                                                                                                                                                                1\n",
       "6.3. Technical attributes (I.E Fuel efficiency, drive performance)                                                                                                       1\n",
       "6.4. Aesthetics (Looks of the vehicle)                                                                                                                                   2\n",
       "6.5. Social responsibility (I.E Low carbon emission rates)                                                                                                               2\n",
       "7. If you were to own an Electrical vehicle, what would be your main concern? Rank the following in order – 1 being least concerned and 5 being Most concerned.         50\n",
       "7.1. Number of charging stations.                                                                                                                                        1\n",
       "7.2. Maintenance costs.                                                                                                                                                  2\n",
       "7.3. Battery life. (Fuel capacity for car)                                                                                                                               1\n",
       "7.4. Car interface.                                                                                                                                                      2\n",
       "7.5. General confidence in the safety and quality of manufacture.                                                                                                        2\n",
       "8. What is the minimum charging cost you can accept for an Electric Vehicle's maximum full battery charge? (In SGD)                                                      2\n",
       "9. On a scale of 1-5, how would you rate the importance of having clean energy on your car?                                                                             50\n",
       "9.1. Not important to extremely important                                                                                                                                0\n",
       "10. How would you describe your attitude towards climate change?                                                                                                         0\n",
       "11. What is the maximum budget you would be willing to afford additionally for a switch into an Electric Vehicle? (In SGD, 0 if not interested at all)                   2\n",
       "12. Are you aware of the electrical vehicle industry and its effect on climate change.                                                                                  50\n",
       "12.1. Not aware to extremely informed                                                                                                                                    1\n",
       "13. Are factors towards aiding Climate change likely to be a contributing factor in your decision to switch to Electrical Vehicles?                                     50\n",
       "13.1. Not likely to extremely likely                                                                                                                                     0\n",
       "14. Would you make a switch to Electric vehicles if other factors remain constant? (I.E cost, model, performance of car remains the same)                               50\n",
       "14.1. Not likely to extremely likely                                                                                                                                     0\n",
       "15. How receptive are you towards information of Electric vehicles & its effect on aiding Climate change?                                                               50\n",
       "15.1. Not receptive to extremely receptive                                                                                                                               0\n",
       "CompletionDate                                                                                                                                                           0\n",
       "dtype: int64"
      ]
     },
     "execution_count": 3,
     "metadata": {},
     "output_type": "execute_result"
    }
   ],
   "source": [
    "#Checking for NA\n",
    "\n",
    "df_survey.isna().sum()"
   ]
  },
  {
   "cell_type": "code",
   "execution_count": 4,
   "id": "1b537ea9",
   "metadata": {
    "pycharm": {
     "name": "#%%\n"
    }
   },
   "outputs": [
    {
     "data": {
      "text/html": [
       "<div>\n",
       "<style scoped>\n",
       "    .dataframe tbody tr th:only-of-type {\n",
       "        vertical-align: middle;\n",
       "    }\n",
       "\n",
       "    .dataframe tbody tr th {\n",
       "        vertical-align: top;\n",
       "    }\n",
       "\n",
       "    .dataframe thead th {\n",
       "        text-align: right;\n",
       "    }\n",
       "</style>\n",
       "<table border=\"1\" class=\"dataframe\">\n",
       "  <thead>\n",
       "    <tr style=\"text-align: right;\">\n",
       "      <th></th>\n",
       "      <th>Social responsibility</th>\n",
       "    </tr>\n",
       "  </thead>\n",
       "  <tbody>\n",
       "    <tr>\n",
       "      <th>0</th>\n",
       "      <td>False</td>\n",
       "    </tr>\n",
       "    <tr>\n",
       "      <th>1</th>\n",
       "      <td>False</td>\n",
       "    </tr>\n",
       "    <tr>\n",
       "      <th>2</th>\n",
       "      <td>False</td>\n",
       "    </tr>\n",
       "    <tr>\n",
       "      <th>3</th>\n",
       "      <td>False</td>\n",
       "    </tr>\n",
       "    <tr>\n",
       "      <th>4</th>\n",
       "      <td>False</td>\n",
       "    </tr>\n",
       "    <tr>\n",
       "      <th>5</th>\n",
       "      <td>False</td>\n",
       "    </tr>\n",
       "    <tr>\n",
       "      <th>6</th>\n",
       "      <td>False</td>\n",
       "    </tr>\n",
       "    <tr>\n",
       "      <th>7</th>\n",
       "      <td>False</td>\n",
       "    </tr>\n",
       "    <tr>\n",
       "      <th>8</th>\n",
       "      <td>False</td>\n",
       "    </tr>\n",
       "    <tr>\n",
       "      <th>9</th>\n",
       "      <td>False</td>\n",
       "    </tr>\n",
       "    <tr>\n",
       "      <th>10</th>\n",
       "      <td>False</td>\n",
       "    </tr>\n",
       "    <tr>\n",
       "      <th>11</th>\n",
       "      <td>False</td>\n",
       "    </tr>\n",
       "    <tr>\n",
       "      <th>12</th>\n",
       "      <td>False</td>\n",
       "    </tr>\n",
       "    <tr>\n",
       "      <th>13</th>\n",
       "      <td>False</td>\n",
       "    </tr>\n",
       "    <tr>\n",
       "      <th>14</th>\n",
       "      <td>False</td>\n",
       "    </tr>\n",
       "    <tr>\n",
       "      <th>15</th>\n",
       "      <td>False</td>\n",
       "    </tr>\n",
       "    <tr>\n",
       "      <th>16</th>\n",
       "      <td>False</td>\n",
       "    </tr>\n",
       "    <tr>\n",
       "      <th>17</th>\n",
       "      <td>False</td>\n",
       "    </tr>\n",
       "    <tr>\n",
       "      <th>18</th>\n",
       "      <td>False</td>\n",
       "    </tr>\n",
       "    <tr>\n",
       "      <th>19</th>\n",
       "      <td>False</td>\n",
       "    </tr>\n",
       "    <tr>\n",
       "      <th>20</th>\n",
       "      <td>False</td>\n",
       "    </tr>\n",
       "    <tr>\n",
       "      <th>21</th>\n",
       "      <td>False</td>\n",
       "    </tr>\n",
       "    <tr>\n",
       "      <th>22</th>\n",
       "      <td>False</td>\n",
       "    </tr>\n",
       "    <tr>\n",
       "      <th>23</th>\n",
       "      <td>False</td>\n",
       "    </tr>\n",
       "    <tr>\n",
       "      <th>24</th>\n",
       "      <td>False</td>\n",
       "    </tr>\n",
       "    <tr>\n",
       "      <th>25</th>\n",
       "      <td>False</td>\n",
       "    </tr>\n",
       "    <tr>\n",
       "      <th>26</th>\n",
       "      <td>False</td>\n",
       "    </tr>\n",
       "    <tr>\n",
       "      <th>27</th>\n",
       "      <td>False</td>\n",
       "    </tr>\n",
       "    <tr>\n",
       "      <th>28</th>\n",
       "      <td>False</td>\n",
       "    </tr>\n",
       "    <tr>\n",
       "      <th>29</th>\n",
       "      <td>True</td>\n",
       "    </tr>\n",
       "    <tr>\n",
       "      <th>30</th>\n",
       "      <td>False</td>\n",
       "    </tr>\n",
       "    <tr>\n",
       "      <th>31</th>\n",
       "      <td>True</td>\n",
       "    </tr>\n",
       "    <tr>\n",
       "      <th>32</th>\n",
       "      <td>False</td>\n",
       "    </tr>\n",
       "    <tr>\n",
       "      <th>33</th>\n",
       "      <td>False</td>\n",
       "    </tr>\n",
       "    <tr>\n",
       "      <th>34</th>\n",
       "      <td>False</td>\n",
       "    </tr>\n",
       "    <tr>\n",
       "      <th>35</th>\n",
       "      <td>False</td>\n",
       "    </tr>\n",
       "    <tr>\n",
       "      <th>36</th>\n",
       "      <td>False</td>\n",
       "    </tr>\n",
       "    <tr>\n",
       "      <th>37</th>\n",
       "      <td>False</td>\n",
       "    </tr>\n",
       "    <tr>\n",
       "      <th>38</th>\n",
       "      <td>False</td>\n",
       "    </tr>\n",
       "    <tr>\n",
       "      <th>39</th>\n",
       "      <td>False</td>\n",
       "    </tr>\n",
       "    <tr>\n",
       "      <th>40</th>\n",
       "      <td>False</td>\n",
       "    </tr>\n",
       "    <tr>\n",
       "      <th>41</th>\n",
       "      <td>False</td>\n",
       "    </tr>\n",
       "    <tr>\n",
       "      <th>42</th>\n",
       "      <td>False</td>\n",
       "    </tr>\n",
       "    <tr>\n",
       "      <th>43</th>\n",
       "      <td>False</td>\n",
       "    </tr>\n",
       "    <tr>\n",
       "      <th>44</th>\n",
       "      <td>False</td>\n",
       "    </tr>\n",
       "    <tr>\n",
       "      <th>45</th>\n",
       "      <td>False</td>\n",
       "    </tr>\n",
       "    <tr>\n",
       "      <th>46</th>\n",
       "      <td>False</td>\n",
       "    </tr>\n",
       "    <tr>\n",
       "      <th>47</th>\n",
       "      <td>False</td>\n",
       "    </tr>\n",
       "    <tr>\n",
       "      <th>48</th>\n",
       "      <td>False</td>\n",
       "    </tr>\n",
       "    <tr>\n",
       "      <th>49</th>\n",
       "      <td>False</td>\n",
       "    </tr>\n",
       "  </tbody>\n",
       "</table>\n",
       "</div>"
      ],
      "text/plain": [
       "    Social responsibility\n",
       "0                   False\n",
       "1                   False\n",
       "2                   False\n",
       "3                   False\n",
       "4                   False\n",
       "5                   False\n",
       "6                   False\n",
       "7                   False\n",
       "8                   False\n",
       "9                   False\n",
       "10                  False\n",
       "11                  False\n",
       "12                  False\n",
       "13                  False\n",
       "14                  False\n",
       "15                  False\n",
       "16                  False\n",
       "17                  False\n",
       "18                  False\n",
       "19                  False\n",
       "20                  False\n",
       "21                  False\n",
       "22                  False\n",
       "23                  False\n",
       "24                  False\n",
       "25                  False\n",
       "26                  False\n",
       "27                  False\n",
       "28                  False\n",
       "29                   True\n",
       "30                  False\n",
       "31                   True\n",
       "32                  False\n",
       "33                  False\n",
       "34                  False\n",
       "35                  False\n",
       "36                  False\n",
       "37                  False\n",
       "38                  False\n",
       "39                  False\n",
       "40                  False\n",
       "41                  False\n",
       "42                  False\n",
       "43                  False\n",
       "44                  False\n",
       "45                  False\n",
       "46                  False\n",
       "47                  False\n",
       "48                  False\n",
       "49                  False"
      ]
     },
     "execution_count": 4,
     "metadata": {},
     "output_type": "execute_result"
    }
   ],
   "source": [
    "#Specifically filtering out the column required\n",
    "\n",
    "df_climatechange = pd.DataFrame(df_survey[['6.5. Social responsibility (I.E Low carbon emission rates)']])\n",
    "df_climatechange = df_climatechange.rename(columns={'6.5. Social responsibility (I.E Low carbon emission rates)':'Social responsibility'})\n",
    "\n",
    "#Checking for null data\n",
    "\n",
    "df_climatechange.isnull()"
   ]
  },
  {
   "cell_type": "code",
   "execution_count": 5,
   "id": "e355626e",
   "metadata": {
    "pycharm": {
     "name": "#%%\n"
    }
   },
   "outputs": [
    {
     "data": {
      "text/html": [
       "<div>\n",
       "<style scoped>\n",
       "    .dataframe tbody tr th:only-of-type {\n",
       "        vertical-align: middle;\n",
       "    }\n",
       "\n",
       "    .dataframe tbody tr th {\n",
       "        vertical-align: top;\n",
       "    }\n",
       "\n",
       "    .dataframe thead th {\n",
       "        text-align: right;\n",
       "    }\n",
       "</style>\n",
       "<table border=\"1\" class=\"dataframe\">\n",
       "  <thead>\n",
       "    <tr style=\"text-align: right;\">\n",
       "      <th></th>\n",
       "      <th>Social responsibility</th>\n",
       "    </tr>\n",
       "  </thead>\n",
       "  <tbody>\n",
       "    <tr>\n",
       "      <th>0</th>\n",
       "      <td>2</td>\n",
       "    </tr>\n",
       "    <tr>\n",
       "      <th>1</th>\n",
       "      <td>1 - Least important</td>\n",
       "    </tr>\n",
       "    <tr>\n",
       "      <th>2</th>\n",
       "      <td>3</td>\n",
       "    </tr>\n",
       "    <tr>\n",
       "      <th>3</th>\n",
       "      <td>1 - Least important</td>\n",
       "    </tr>\n",
       "    <tr>\n",
       "      <th>4</th>\n",
       "      <td>3</td>\n",
       "    </tr>\n",
       "    <tr>\n",
       "      <th>5</th>\n",
       "      <td>4</td>\n",
       "    </tr>\n",
       "    <tr>\n",
       "      <th>6</th>\n",
       "      <td>1 - Least important</td>\n",
       "    </tr>\n",
       "    <tr>\n",
       "      <th>7</th>\n",
       "      <td>2</td>\n",
       "    </tr>\n",
       "    <tr>\n",
       "      <th>8</th>\n",
       "      <td>1 - Least important</td>\n",
       "    </tr>\n",
       "    <tr>\n",
       "      <th>9</th>\n",
       "      <td>1 - Least important</td>\n",
       "    </tr>\n",
       "    <tr>\n",
       "      <th>10</th>\n",
       "      <td>1 - Least important</td>\n",
       "    </tr>\n",
       "    <tr>\n",
       "      <th>11</th>\n",
       "      <td>1 - Least important</td>\n",
       "    </tr>\n",
       "    <tr>\n",
       "      <th>12</th>\n",
       "      <td>3</td>\n",
       "    </tr>\n",
       "    <tr>\n",
       "      <th>13</th>\n",
       "      <td>1 - Least important</td>\n",
       "    </tr>\n",
       "    <tr>\n",
       "      <th>14</th>\n",
       "      <td>1 - Least important</td>\n",
       "    </tr>\n",
       "    <tr>\n",
       "      <th>15</th>\n",
       "      <td>4</td>\n",
       "    </tr>\n",
       "    <tr>\n",
       "      <th>16</th>\n",
       "      <td>4</td>\n",
       "    </tr>\n",
       "    <tr>\n",
       "      <th>17</th>\n",
       "      <td>4</td>\n",
       "    </tr>\n",
       "    <tr>\n",
       "      <th>18</th>\n",
       "      <td>1 - Least important</td>\n",
       "    </tr>\n",
       "    <tr>\n",
       "      <th>19</th>\n",
       "      <td>3</td>\n",
       "    </tr>\n",
       "    <tr>\n",
       "      <th>20</th>\n",
       "      <td>1 - Least important</td>\n",
       "    </tr>\n",
       "    <tr>\n",
       "      <th>21</th>\n",
       "      <td>3</td>\n",
       "    </tr>\n",
       "    <tr>\n",
       "      <th>22</th>\n",
       "      <td>1 - Least important</td>\n",
       "    </tr>\n",
       "    <tr>\n",
       "      <th>23</th>\n",
       "      <td>1 - Least important</td>\n",
       "    </tr>\n",
       "    <tr>\n",
       "      <th>24</th>\n",
       "      <td>2</td>\n",
       "    </tr>\n",
       "    <tr>\n",
       "      <th>25</th>\n",
       "      <td>1 - Least important</td>\n",
       "    </tr>\n",
       "    <tr>\n",
       "      <th>26</th>\n",
       "      <td>1 - Least important</td>\n",
       "    </tr>\n",
       "    <tr>\n",
       "      <th>27</th>\n",
       "      <td>2</td>\n",
       "    </tr>\n",
       "    <tr>\n",
       "      <th>28</th>\n",
       "      <td>1 - Least important</td>\n",
       "    </tr>\n",
       "    <tr>\n",
       "      <th>30</th>\n",
       "      <td>1 - Least important</td>\n",
       "    </tr>\n",
       "    <tr>\n",
       "      <th>32</th>\n",
       "      <td>1 - Least important</td>\n",
       "    </tr>\n",
       "    <tr>\n",
       "      <th>33</th>\n",
       "      <td>1 - Least important</td>\n",
       "    </tr>\n",
       "    <tr>\n",
       "      <th>34</th>\n",
       "      <td>1 - Least important</td>\n",
       "    </tr>\n",
       "    <tr>\n",
       "      <th>35</th>\n",
       "      <td>1 - Least important</td>\n",
       "    </tr>\n",
       "    <tr>\n",
       "      <th>36</th>\n",
       "      <td>1 - Least important</td>\n",
       "    </tr>\n",
       "    <tr>\n",
       "      <th>37</th>\n",
       "      <td>1 - Least important</td>\n",
       "    </tr>\n",
       "    <tr>\n",
       "      <th>38</th>\n",
       "      <td>1 - Least important</td>\n",
       "    </tr>\n",
       "    <tr>\n",
       "      <th>39</th>\n",
       "      <td>2</td>\n",
       "    </tr>\n",
       "    <tr>\n",
       "      <th>40</th>\n",
       "      <td>4</td>\n",
       "    </tr>\n",
       "    <tr>\n",
       "      <th>41</th>\n",
       "      <td>1 - Least important</td>\n",
       "    </tr>\n",
       "    <tr>\n",
       "      <th>42</th>\n",
       "      <td>3</td>\n",
       "    </tr>\n",
       "    <tr>\n",
       "      <th>43</th>\n",
       "      <td>4</td>\n",
       "    </tr>\n",
       "    <tr>\n",
       "      <th>44</th>\n",
       "      <td>2</td>\n",
       "    </tr>\n",
       "    <tr>\n",
       "      <th>45</th>\n",
       "      <td>1 - Least important</td>\n",
       "    </tr>\n",
       "    <tr>\n",
       "      <th>46</th>\n",
       "      <td>4</td>\n",
       "    </tr>\n",
       "    <tr>\n",
       "      <th>47</th>\n",
       "      <td>1 - Least important</td>\n",
       "    </tr>\n",
       "    <tr>\n",
       "      <th>48</th>\n",
       "      <td>2</td>\n",
       "    </tr>\n",
       "    <tr>\n",
       "      <th>49</th>\n",
       "      <td>4</td>\n",
       "    </tr>\n",
       "  </tbody>\n",
       "</table>\n",
       "</div>"
      ],
      "text/plain": [
       "   Social responsibility\n",
       "0                      2\n",
       "1    1 - Least important\n",
       "2                      3\n",
       "3    1 - Least important\n",
       "4                      3\n",
       "5                      4\n",
       "6    1 - Least important\n",
       "7                      2\n",
       "8    1 - Least important\n",
       "9    1 - Least important\n",
       "10   1 - Least important\n",
       "11   1 - Least important\n",
       "12                     3\n",
       "13   1 - Least important\n",
       "14   1 - Least important\n",
       "15                     4\n",
       "16                     4\n",
       "17                     4\n",
       "18   1 - Least important\n",
       "19                     3\n",
       "20   1 - Least important\n",
       "21                     3\n",
       "22   1 - Least important\n",
       "23   1 - Least important\n",
       "24                     2\n",
       "25   1 - Least important\n",
       "26   1 - Least important\n",
       "27                     2\n",
       "28   1 - Least important\n",
       "30   1 - Least important\n",
       "32   1 - Least important\n",
       "33   1 - Least important\n",
       "34   1 - Least important\n",
       "35   1 - Least important\n",
       "36   1 - Least important\n",
       "37   1 - Least important\n",
       "38   1 - Least important\n",
       "39                     2\n",
       "40                     4\n",
       "41   1 - Least important\n",
       "42                     3\n",
       "43                     4\n",
       "44                     2\n",
       "45   1 - Least important\n",
       "46                     4\n",
       "47   1 - Least important\n",
       "48                     2\n",
       "49                     4"
      ]
     },
     "execution_count": 5,
     "metadata": {},
     "output_type": "execute_result"
    }
   ],
   "source": [
    "#Dropping all Null values\n",
    "\n",
    "df_climatechange.dropna(axis=0,inplace = True)\n",
    "df_climatechange"
   ]
  },
  {
   "cell_type": "code",
   "execution_count": 6,
   "id": "68988e73",
   "metadata": {
    "pycharm": {
     "name": "#%%\n"
    }
   },
   "outputs": [
    {
     "data": {
      "text/html": [
       "<div>\n",
       "<style scoped>\n",
       "    .dataframe tbody tr th:only-of-type {\n",
       "        vertical-align: middle;\n",
       "    }\n",
       "\n",
       "    .dataframe tbody tr th {\n",
       "        vertical-align: top;\n",
       "    }\n",
       "\n",
       "    .dataframe thead th {\n",
       "        text-align: right;\n",
       "    }\n",
       "</style>\n",
       "<table border=\"1\" class=\"dataframe\">\n",
       "  <thead>\n",
       "    <tr style=\"text-align: right;\">\n",
       "      <th></th>\n",
       "      <th>Social responsibility</th>\n",
       "    </tr>\n",
       "  </thead>\n",
       "  <tbody>\n",
       "    <tr>\n",
       "      <th>0</th>\n",
       "      <td>2</td>\n",
       "    </tr>\n",
       "    <tr>\n",
       "      <th>1</th>\n",
       "      <td>1</td>\n",
       "    </tr>\n",
       "    <tr>\n",
       "      <th>2</th>\n",
       "      <td>3</td>\n",
       "    </tr>\n",
       "    <tr>\n",
       "      <th>3</th>\n",
       "      <td>1</td>\n",
       "    </tr>\n",
       "    <tr>\n",
       "      <th>4</th>\n",
       "      <td>3</td>\n",
       "    </tr>\n",
       "  </tbody>\n",
       "</table>\n",
       "</div>"
      ],
      "text/plain": [
       "  Social responsibility\n",
       "0                     2\n",
       "1                     1\n",
       "2                     3\n",
       "3                     1\n",
       "4                     3"
      ]
     },
     "execution_count": 6,
     "metadata": {},
     "output_type": "execute_result"
    }
   ],
   "source": [
    "#Removing excess texts in the value cells for analysis\n",
    "\n",
    "df_climatechange['Social responsibility'] = df_climatechange['Social responsibility'].astype(str).str[:1]\n",
    "df_climatechange.head()"
   ]
  },
  {
   "cell_type": "code",
   "execution_count": 7,
   "id": "be20ae08",
   "metadata": {
    "pycharm": {
     "name": "#%%\n"
    }
   },
   "outputs": [
    {
     "data": {
      "text/plain": [
       "Social responsibility\n",
       "1                        27\n",
       "2                         7\n",
       "3                         6\n",
       "4                         8\n",
       "dtype: int64"
      ]
     },
     "execution_count": 7,
     "metadata": {},
     "output_type": "execute_result"
    }
   ],
   "source": [
    "df_cc_count = df_climatechange.value_counts()\n",
    "df_cc_count.sort_index()"
   ]
  },
  {
   "cell_type": "code",
   "execution_count": 8,
   "id": "bf0e8b54",
   "metadata": {
    "scrolled": true,
    "pycharm": {
     "name": "#%%\n"
    }
   },
   "outputs": [
    {
     "data": {
      "image/png": "[encoded data removed]",
      "text/plain": [
       "<Figure size 1080x720 with 1 Axes>"
      ]
     },
     "metadata": {},
     "output_type": "display_data"
    }
   ],
   "source": [
    "# Creating plot\n",
    "fig_cc1, ax = plt.subplots(figsize =(15, 10))\n",
    "\n",
    "ratings = ['1 - Least important', '2 - Not so important', '3 - Neutral',\n",
    "        '4 - Rather important']\n",
    "plt.pie(df_cc_count, labels = ratings,autopct='%1.2f%%')\n",
    "\n",
    "ax.legend(ratings,\n",
    "          title =\"Ratings\",\n",
    "          loc =\"center left\",\n",
    "          bbox_to_anchor =(1, 0, 0.5, 1))\n",
    "\n",
    "plt.suptitle(\"Social Responsibility consideration when purchasing a car - When compared against other prevailing factors.\")\n",
    "\n",
    "# show plot\n",
    "plt.show()"
   ]
  },
  {
   "cell_type": "code",
   "execution_count": 9,
   "id": "ae67bdcd",
   "metadata": {
    "pycharm": {
     "name": "#%%\n"
    }
   },
   "outputs": [
    {
     "data": {
      "image/png": "[encoded data removed]",
      "text/plain": [
       "<Figure size 1080x720 with 1 Axes>"
      ]
     },
     "metadata": {},
     "output_type": "display_data"
    }
   ],
   "source": [
    "#Set-up data frame for the graph\n",
    "df_cost = pd.DataFrame(df_survey[['6.2. Cost']])\n",
    "df_cost = df_cost.rename(columns={'6.2. Cost':'Cost'})\n",
    "df_cost.dropna(axis=0,inplace = True)\n",
    "df_cost['Cost'] = df_cost['Cost'].astype(str).str[:1]\n",
    "df_cost_count = df_cost.value_counts()\n",
    "df_cost_count.sort_index(ascending=True, inplace= True)\n",
    "\n",
    "# Creating plot\n",
    "fig_cc1, ax = plt.subplots(figsize =(15, 10))\n",
    "\n",
    "ratings = ['1 - Least important', '2 - Not so important', '3 - Neutral',\n",
    "        '4 - Rather important', '5 - Most important']\n",
    "\n",
    "plt.pie(df_cost_count, labels = ratings,autopct='%1.2f%%')\n",
    "\n",
    "ax.legend(ratings,\n",
    "          title =\"Ratings\",\n",
    "          loc =\"center right\",\n",
    "          bbox_to_anchor =(1, 0, 0.5, 1))\n",
    "\n",
    "plt.suptitle(\"Cost consideration when purchasing a car - When compared against other prevailing factors.\")\n",
    "\n",
    "# show plot\n",
    "plt.show()"
   ]
  },
  {
   "cell_type": "code",
   "execution_count": 10,
   "id": "0ed00b71",
   "metadata": {
    "scrolled": true,
    "pycharm": {
     "name": "#%%\n"
    }
   },
   "outputs": [
    {
     "data": {
      "image/png": "[encoded data removed]",
      "text/plain": [
       "<Figure size 1080x720 with 1 Axes>"
      ]
     },
     "metadata": {},
     "output_type": "display_data"
    }
   ],
   "source": [
    "#Set-up data frame for the graph\n",
    "df_cleanenergy = pd.DataFrame(df_survey[['9.1. Not important to extremely important']])\n",
    "df_cleanenergy = df_cleanenergy.rename(columns={'9.1. Not important to extremely important':'Importance of Clean energy'})\n",
    "df_cleanenergy.dropna(axis=0,inplace = True)\n",
    "df_cleanenergy['Importance of Clean energy'] = df_cleanenergy['Importance of Clean energy'].astype(str).str[:1]\n",
    "df_cleanenergy_count = df_cleanenergy.value_counts()\n",
    "df_cleanenergy_count.sort_index(ascending=True, inplace= True)\n",
    "\n",
    "# Creating plot\n",
    "fig_cc1, ax = plt.subplots(figsize =(15, 10))\n",
    "\n",
    "ratings = ['1 - Least important', '2 - Not so important', '3 - Neutral',\n",
    "        '4 - Rather important', '5 - Most important']\n",
    "\n",
    "plt.pie(df_cleanenergy_count, labels = ratings,autopct='%1.2f%%')\n",
    "\n",
    "ax.legend(ratings,\n",
    "          title =\"Ratings\",\n",
    "          loc =\"center right\",\n",
    "          bbox_to_anchor =(1, 0, 0.5, 1))\n",
    "\n",
    "plt.suptitle(\"Importance of Clean energy when purchasing a car.\")\n",
    "\n",
    "# show plot\n",
    "plt.show()"
   ]
  },
  {
   "cell_type": "code",
   "execution_count": 11,
   "id": "d8521b06",
   "metadata": {
    "scrolled": true,
    "pycharm": {
     "name": "#%%\n"
    }
   },
   "outputs": [
    {
     "data": {
      "image/png": "[encoded data removed]",
      "text/plain": [
       "<Figure size 1080x720 with 1 Axes>"
      ]
     },
     "metadata": {},
     "output_type": "display_data"
    }
   ],
   "source": [
    "#Set-up data frame for the graph\n",
    "df_cc_informed = pd.DataFrame(df_survey[['12.1. Not aware to extremely informed']])\n",
    "df_cc_informed = df_cc_informed.rename(columns={'12.1. Not aware to extremely informed':'Awareness on Clean energy'})\n",
    "df_cc_informed.dropna(axis=0,inplace = True)\n",
    "df_cc_informed['Awareness on Clean energy'] = df_cc_informed['Awareness on Clean energy'].astype(str).str[:1]\n",
    "df_cc_informed_count = df_cc_informed.value_counts()\n",
    "df_cc_informed_count.sort_index(ascending=True, inplace= True)\n",
    "\n",
    "# Creating plot\n",
    "fig_cc1, ax = plt.subplots(figsize =(15, 10))\n",
    "\n",
    "ratings = ['1 - Not aware', '2 - Slight knowledge', '3 - Fair knowledge',\n",
    "        '4 - Good knowledge', '5 - Very well informed']\n",
    "\n",
    "plt.pie(df_cc_informed_count, labels = ratings,autopct='%1.2f%%')\n",
    "\n",
    "ax.legend(ratings,\n",
    "          title =\"Ratings\",\n",
    "          loc =\"center right\",\n",
    "          bbox_to_anchor =(1, 0, 0.5, 1))\n",
    "\n",
    "plt.suptitle(\"Awareness on impact of clean energy towards climate change.\")\n",
    "\n",
    "# show plot\n",
    "plt.show()"
   ]
  },
  {
   "cell_type": "code",
   "execution_count": 16,
   "id": "2dfa2b9c",
   "metadata": {
    "scrolled": true,
    "pycharm": {
     "name": "#%%\n"
    }
   },
   "outputs": [
    {
     "data": {
      "text/plain": [
       "Text(0, 0.5, 'Amount of Ratings')"
      ]
     },
     "execution_count": 16,
     "metadata": {},
     "output_type": "execute_result"
    },
    {
     "data": {
      "image/png": "[encoded data removed]",
      "text/plain": [
       "<Figure size 1440x720 with 1 Axes>"
      ]
     },
     "metadata": {
      "needs_background": "light"
     },
     "output_type": "display_data"
    }
   ],
   "source": [
    "#Set-up data frame for the graph\n",
    "df_cc_recep = pd.DataFrame(df_survey[[\n",
    "                                      '13.1. Not likely to extremely likely',\n",
    "                                      '14.1. Not likely to extremely likely',\n",
    "                                       '15.1. Not receptive to extremely receptive',\n",
    "                                      ]])\n",
    "\n",
    "df_cc_recep = df_cc_recep.rename(columns={\n",
    "                                          '13.1. Not likely to extremely likely':'Climate change being main reason for EV switch',\n",
    "                                          '14.1. Not likely to extremely likely':'Will switch to EV if all attributes remain same',\n",
    "                                          '15.1. Not receptive to extremely receptive':'Receptiveness toward climate change',\n",
    "                                })\n",
    "df_cc_recep.dropna(axis=0,inplace = True)\n",
    "df_cc_recep['Climate change being main reason for EV switch'] = df_cc_recep['Climate change being main reason for EV switch'].astype(str).str[:1]\n",
    "df_cc_recep['Will switch to EV if all attributes remain same'] = df_cc_recep['Will switch to EV if all attributes remain same'].astype(str).str[:1]\n",
    "df_cc_recep['Receptiveness toward climate change'] = df_cc_recep['Receptiveness toward climate change'].astype(str).str[:1]\n",
    "df_cc_recep = df_cc_recep.apply(pd.Series.value_counts)\n",
    "\n",
    "# df_cc_aware.sort_index(ascending=True, inplace= True)\n",
    "df_cc_recep.plot.bar(rot = 0, figsize = (20,10))\n",
    "plt.suptitle('Ratings to climate change & EV receptiveness. [1 least importance to 5 - Most important]')\n",
    "plt.xlabel(\"Rating Choice\")\n",
    "plt.ylabel(\"Amount of Ratings\")"
   ]
  },
  {
   "cell_type": "code",
   "execution_count": 15,
   "id": "4ecc3c74",
   "metadata": {
    "scrolled": true,
    "pycharm": {
     "name": "#%%\n"
    }
   },
   "outputs": [
    {
     "data": {
      "text/plain": [
       "Text(0, 0.5, 'Amount of Ratings')"
      ]
     },
     "execution_count": 15,
     "metadata": {},
     "output_type": "execute_result"
    },
    {
     "data": {
      "image/png": "[encoded data removed]",
      "text/plain": [
       "<Figure size 1440x720 with 1 Axes>"
      ]
     },
     "metadata": {
      "needs_background": "light"
     },
     "output_type": "display_data"
    }
   ],
   "source": [
    "#Set-up data frame for the graph\n",
    "df_ev_ratings = pd.DataFrame(df_survey[[\n",
    "                                        '7.1. Number of charging stations.',\n",
    "                                        '7.2. Maintenance costs.',\n",
    "                                        '7.3. Battery life. (Fuel capacity for car)',\n",
    "                                        '7.4. Car interface.',\n",
    "                                        '7.5. General confidence in the safety and quality of manufacture.',\n",
    "                                        ]])\n",
    "\n",
    "df_ev_ratings = df_ev_ratings.rename(columns={\n",
    "                                          '7.1. Number of charging stations.':'Number of Charging Stations',\n",
    "                                          '7.2. Maintenance costs.':'Maintenance Costs',\n",
    "                                          '7.3. Battery life. (Fuel capacity for car)':'Battery Life',\n",
    "                                          '7.4. Car interface.':'Car interface',\n",
    "                                          '7.5. General confidence in the safety and quality of manufacture.':'Safety & Quality',\n",
    "                                })\n",
    "df_ev_ratings.dropna(axis=0,inplace = True)\n",
    "df_ev_ratings['Number of Charging Stations'] = df_ev_ratings['Number of Charging Stations'].astype(str).str[:1]\n",
    "df_ev_ratings['Maintenance Costs'] = df_ev_ratings['Maintenance Costs'].astype(str).str[:1]\n",
    "df_ev_ratings['Battery Life'] = df_ev_ratings['Battery Life'].astype(str).str[:1]\n",
    "df_ev_ratings['Car interface'] = df_ev_ratings['Car interface'].astype(str).str[:1]\n",
    "df_ev_ratings['Safety & Quality'] = df_ev_ratings['Safety & Quality'].astype(str).str[:1]\n",
    "df_ev_ratings = df_ev_ratings.apply(pd.Series.value_counts)\n",
    "\n",
    "#Create plot for graph\n",
    "df_ev_ratings.plot.bar(rot = 0, figsize = (20,10))\n",
    "plt.suptitle('Ratings towards factors during car purchase. [1 - Least importance to 5 - Most important]')\n",
    "plt.xlabel(\"Rating Choice\")\n",
    "plt.ylabel(\"Amount of Ratings\")"
   ]
  },
  {
   "cell_type": "markdown",
   "id": "fdffb037",
   "metadata": {
    "pycharm": {
     "name": "#%% md\n"
    }
   },
   "source": [
    "### Analysis of External data\n",
    "\n",
    "For the following lines of codes, we will plot the external data collected from \"Gov.sg\" electric cars dataframe we set-up from the start above in order to cross-analyze against our survey data."
   ]
  },
  {
   "cell_type": "code",
   "execution_count": 40,
   "id": "6b834ee5",
   "metadata": {
    "pycharm": {
     "name": "#%%\n"
    }
   },
   "outputs": [
    {
     "name": "stdout",
     "output_type": "stream",
     "text": [
      "6      2016-01-01\n",
      "33     2016-02-01\n",
      "60     2016-03-01\n",
      "87     2016-04-01\n",
      "114    2016-05-01\n",
      "141    2016-06-01\n",
      "168    2016-07-01\n",
      "195    2016-08-01\n",
      "223    2016-09-01\n",
      "251    2016-10-01\n",
      "279    2016-11-01\n",
      "307    2016-12-01\n",
      "335    2017-01-01\n",
      "363    2017-02-01\n",
      "391    2017-03-01\n",
      "419    2017-04-01\n",
      "447    2017-05-01\n",
      "475    2017-06-01\n",
      "503    2017-07-01\n",
      "531    2017-08-01\n",
      "559    2017-09-01\n",
      "587    2017-10-01\n",
      "615    2017-11-01\n",
      "643    2017-12-01\n",
      "671    2018-01-01\n",
      "699    2018-02-01\n",
      "727    2018-03-01\n",
      "755    2018-04-01\n",
      "783    2018-05-01\n",
      "811    2018-06-01\n",
      "839    2018-07-01\n",
      "868    2018-08-01\n",
      "897    2018-09-01\n",
      "926    2018-10-01\n",
      "955    2018-11-01\n",
      "984    2018-12-01\n",
      "1013   2019-01-01\n",
      "1042   2019-02-01\n",
      "1071   2019-03-01\n",
      "1100   2019-04-01\n",
      "1129   2019-05-01\n",
      "1158   2019-06-01\n",
      "1187   2019-07-01\n",
      "1216   2019-08-01\n",
      "1245   2019-09-01\n",
      "1274   2019-10-01\n",
      "1303   2019-11-01\n",
      "1332   2019-12-01\n",
      "1361   2020-01-01\n",
      "Name: month, dtype: datetime64[ns]\n"
     ]
    }
   ],
   "source": [
    "#Converting 'month' column to datetime format\n",
    "df_cars_electric['month'] = pd.to_datetime(df_cars_electric['month'])\n",
    "print(df_cars_electric['month'])\n",
    "\n",
    "#Since only months are provided, we assume all months are start of month"
   ]
  },
  {
   "cell_type": "code",
   "execution_count": 45,
   "id": "d09f8cf1",
   "metadata": {
    "pycharm": {
     "name": "#%%\n"
    }
   },
   "outputs": [
    {
     "data": {
      "image/png": "[encoded data removed]",
      "text/plain": [
       "<Figure size 1080x360 with 1 Axes>"
      ]
     },
     "metadata": {
      "needs_background": "light"
     },
     "output_type": "display_data"
    }
   ],
   "source": [
    "import matplotlib.dates as mdates\n",
    "\n",
    "#Plot number of electric cars against a time-series\n",
    "plt.figure(figsize=(15,5))\n",
    "plt.grid(True)\n",
    "plt.xlabel('Dates')\n",
    "plt.ylabel('Number of Electric purchases')\n",
    "plt.plot(df_cars_electric['month'],df_cars_electric['number'])\n",
    "plt.title('External Data - Electric cars purchase in Singapore')\n",
    "ax = plt.gca()\n",
    "ax.xaxis.label.set_size(15)\n",
    "ax.yaxis.label.set_size(15)\n",
    "plt.show()"
   ]
  },
  {
   "cell_type": "markdown",
   "id": "60ce7779",
   "metadata": {
    "pycharm": {
     "name": "#%% md\n"
    }
   },
   "source": [
    "## Analysis and results\n",
    "\n",
    "* <b>Results Analysis</b> \n",
    "\n",
    "<p>\n",
    "   Upon further scrutiny of all the responses participants provided, it yield very interesting and telling results. Majority of the participants seem to be aware of the situation regarding Electric vehicles to clean energy and its impact on the situation regarding climate change. However, not all has shown willingness to convert to EV as shown from the percentages of awareness towards the ratings of social responsibility when compared to other factors. I will conduct a further analysis breakdown specific to answer to the research questions intended for this survey project:\n",
    "</p>\n",
    "\n",
    "<b> Comparison of survey results with electric car purchases external data</b>\n",
    "\n",
    "<p>\n",
    "    Evidently, we can see that the data collected and published via 'gov.sg' regarding the purchases of electric cars sky-rocketed from the timeframe between 2018 to 2020. This results are very well supported by our findings from the survey. Our participants has not only indicated very high number of awareness towards the climate change issue, they are also very receptive towards making a switch to EV adoption as shown in the ratings toward EV receptiveness bar plot where majority voted that they will make the switch to EV & is receptive. Moreoever, more than 50% of participants voted that clean energy is important in the pie-graph above indicating the consideration of clean energy during car purchase. This shows that singaporeans are aware and interested in the field of EV adoption which is supported by published data from 2018-2020 as shown above.\n",
    "</p>\n",
    "\n",
    "<b> To understand participant’s general attitudes towards climate change. </b>\n",
    "\n",
    "<p>\n",
    "    In a nutshell, i would conclude that most participants have generally high awareness towards the market of EV & climate change. As provided in the graph \"Awareness towards climate change\", only approximately 8% of parcipants indicated poor or no awareness towards climate change, rest of the 92% indicated that they are knowledgeable towards the issue. Generally, the project yielded good results indicating that majority would switch to EV stating climate change as the main factor contributing to that decision as well. This is indicated by the Bar graph shown in 'Ratings to climate change & EV receptiveness.' In conclusion, majority of the participants are knowledgeable towards climate change and clean energy, are all receptive and fairly knowledgeable towards the market of EV and its impact towards climate change. Above results also resonates with the survey results provided by NCSS that 9 out of 10 Singaporeans are aware towards the EV market and is willing to make the switch. This proves that Singaporeans in this sample size are ready for a switch into EV market and are all generally aware of its impact and danger climate change is currently posing against us.\n",
    "</p>\n",
    "\n",
    "<b> To understand participant’s main motivation & concerns when making automobile purchase. </b>\n",
    "    \n",
    "<p>\n",
    "    Understanding the different motivation and concerns for participants during car purchase can be difficult as there are multiple underlying factors that comes in play. Hence i've decided to deploy the question such that the responder ranks the importance of each factor provided. This yield rather interesting results as shown in the graph '\"Social Responsibility consideration when purchasing a car\" compared to \"Cost consideration when purchasing a car\". As we can see from both pie-charts, majority listed social-responsibilities as the least concerned when compared to cost being the most concerned for majorities. This clearly contradicts some results from other questions that yields very positive responses from participants such as high EV conversion ratings given. This can be analysed by the fact that respondents are keen to convert in to EV only when factors that are of higher priority isnt compromised such as cost of vehicle or technical attributes. This is an interesting conclusion as it shows that even though the general public indicates fairly good interest towards EV & climate change, the actual adoption of EV will not happen unless the quality of the vehicle and other many aspect meet the expectations of the consumers.\n",
    "</p>\n",
    "\n",
    "<b> To understand the optimal approach in encouraging the switch to EV. </b>\n",
    "\n",
    "<p>\n",
    "    Similarly from the points made in above analysis, we can see that majority of the respondents are aware of the EV market and climate change. Answers towards the different rating questions also gives us a telling story regarding what are the main concerns of participants when it comes to purchasing a car. These responses are crucial to come up with a plan in encouraging the mass public towards the adoption of EV. In the last shown graph of 'Ratings towards factors during car purchase.', majority of the participants indicated 'Battery life' & 'Charging stations' to be the biggest concern when compared against other factors. This tells us that despite the willingness of Singaporean to adopt EV as their main transport vehicle, there leaves much room for persuasion from other authorities including governmental bodies or auto mobile manufacturers to improve the public perception towards EV adoptions. Policies to include more charging stations across singapore, more exhibitions to showcase battery life or improvements towards performance of EV when compared against traditional gasoline cars will all contribute towards a better push for consumers in Singapore towards a EV conversion and ultimately target of net zero carbon emission.\n",
    "</p>"
   ]
  },
  {
   "cell_type": "markdown",
   "id": "25aaf3cd",
   "metadata": {
    "pycharm": {
     "name": "#%% md\n"
    }
   },
   "source": [
    "## Conclusions\n",
    "\n",
    "<p>\n",
    "   In conclusion, as we can see from above analysis, in this sample participants has shown good response towards the adoption of EV overall. Majority indicated that they are aware of the climate change situation and how adoption of EV could contribute to its cause. This resonates with several studies made by other groups such as the ones made by Ernst & young and NCCS. Both those studies yielded that singaporeans are highly aware of the climate change issues happening around the globe and are keen towards the idea of an EV switch to assist in the situation.\n",
    "</p>\n",
    "<p>\n",
    "   However, given that participants are open and positive towards the idea of EV adoption, it has also been shown in the survey that there are other concerns which is more important than the aspect of helping environment. Factors such as number of charging stations available or vehicle costs be it upfront or long term are all grave concerns participants have when considering the conversion to EV. This can be alleviated by a good combination of communications strategies either by providing more education regarding the safe of EV by manufacturers or the general assurance by government bodies. Policies that includes more charging stations to be installed across singapore could very well help this cause as well. From the results of this survey, i can conclude from this sample that participants are mostly educated on the field of climate change and the important role EV can help in it. To strategize an optimal plan on how to promote more consumers to adopt EV, it does not require much on an emphasize towards educating the public on how EV can help the climate change as majority indicated that those are not the main factor when considering an EV. Major emphasis should be placed instead on more tangible factors such as reducing the cost of the vehicle long or short term, including more charging station across the island or even create more awareness campaign to educate the public that EV battery life could very much beat the traditional gasoline cars. \n",
    "</p>"
   ]
  },
  {
   "cell_type": "markdown",
   "id": "22daf0a0",
   "metadata": {
    "pycharm": {
     "name": "#%% md\n"
    }
   },
   "source": [
    "## References\n",
    "\n",
    "* “Impacts of Climate Change” – https://www.epa.gov/climatechange-science/impacts-climate-change , p1\n",
    "\n",
    "* \"Electric vehicles can make a dent in climate change.\" Science Scope, vol. 40, no. 2, Oct. 2016, p. 6. Gale General OneFile, link.gale.com/apps/doc/A497271513/ITOF?u=ull_ttda&sid=summon&xid=deec212e. Accessed 25 Feb. 2022.\n",
    "\n",
    "* \"Press release 16 Aug 2021 Singapore, SG Five in ten Singapore consumers plan electric vehicle purchase as market moves into high gear\" - Ernst & Young release https://www.ey.com/en_sg/news/2021/08/five-in-ten-singapore-consumers-plan-electric-vehicle-purchase-as-market-moves-into-high-gear\n",
    "\n",
    "* Lim, Michael K (01/01/2015). \"Toward mass adoption of electric vehicles: impact of the range and resale anxieties\". Manufacturing & service operations management (1523-4614), 17 (1), p. 101.\n",
    "\n",
    "* National Climate Change Secretariat Singapore(16/12/2019). “Climate Change Public Perception Survey 2019” - (https://www.nccs.gov.sg/media/press-release/climate-change-public-perception-survey-2019)\n",
    "\n",
    "* Liao, Fanchao (04/05/2017). \"Consumer preferences for electric vehicles: a literature review\". Transport reviews (0144-1647), 37 (3), p. 252.\n",
    "\n",
    "* Data-set: 'Monthly Motor Vehicle Population Statistics by Type of Fuel Used' - https://data.gov.sg/dataset/monthly-motor-vehicle-population-by-type-of-fuel-used?view_id=4e96af52-04ea-4d1c-9d43-95d41f970ec1&resource_id=56c8d9af-5bf5-49a1-91ce-1ed4b4b191f3"
   ]
  },
  {
   "cell_type": "markdown",
   "id": "09a7a142",
   "metadata": {
    "pycharm": {
     "name": "#%% md\n"
    }
   },
   "source": [
    "## Appendices"
   ]
  },
  {
   "cell_type": "markdown",
   "id": "7920ccd0",
   "metadata": {
    "editable": false,
    "pycharm": {
     "name": "#%% md\n"
    }
   },
   "source": [
    "## Word Count\n",
    "\n",
    "The following code will count the number of words in Markdown cells. Code cells are not included.\n",
    "\n",
    "- `Main word count` is the number of words in the main body of the text, *excluding* references or appendices.\n",
    "- `References and appendices word count` is the number of words in any references or appendices.\n",
    "\n",
    "Only `Main word count` relates to the assignment word limit. There is no limit to the number of words that can be included in references or appendices. Please note that appendices should only be used to provide context or supporting information. *No marks will be directly awarded for material submitted in appendices*.\n",
    "\n",
    "Important:\n",
    "\n",
    "- Please do not modify the word count code!\n",
    "- To exclude references from your word count **you must** have a cell that starts with the text `## References`. Everything below this cell will not count towards the main word count.\n",
    "- If you are submitting additional material as appendices **you must** have a cell that starts with the text `## Appendices`. Everything below this cell will not count towards the main word count. If you do not have any appendices you can delete the `## Appendices` cell.\n",
    "- Code comments should only be used to explain details of the implementation, not for discussing your findings. All analysis commentary **must** be written in Markdown cells. *No marks will be awarded for analysis discussion submitted as comments in code cells*."
   ]
  },
  {
   "cell_type": "code",
   "execution_count": 14,
   "id": "4a0d931b",
   "metadata": {
    "editable": false,
    "tags": [],
    "pycharm": {
     "name": "#%%\n"
    }
   },
   "outputs": [
    {
     "data": {
      "application/javascript": [
       "\n",
       "// Run this cell to update your word count.\n",
       "\n",
       "function wordcount() {\n",
       "    let wordCount = 0\n",
       "    let extraCount = 0\n",
       "    let mainBody = true\n",
       "\n",
       "    let cells = Jupyter.notebook.get_cells()\n",
       "    cells.forEach((cell) => {\n",
       "        if (cell.cell_type == 'markdown') {\n",
       "            let text = cell.get_text()\n",
       "            // Stop counting as main body when get to References or Appendices.\n",
       "            if (text.startsWith('## References') ||\n",
       "                text.startsWith('## Appendices')) {\n",
       "                mainBody = false\n",
       "            }\n",
       "            if (text.startsWith('## Word Count')) {\n",
       "                text = ''\n",
       "            }\n",
       "            if (text) {\n",
       "                let words = text.toLowerCase().match(/\\b[a-z\\d]+\\b/g)\n",
       "                if (words) {\n",
       "                    let cellCount = words.length\n",
       "                    if (mainBody) {\n",
       "                        wordCount += cellCount\n",
       "                    } else {\n",
       "                        extraCount += cellCount\n",
       "                    }\n",
       "                }\n",
       "            }\n",
       "        }\n",
       "    })\n",
       "    return [wordCount, extraCount]\n",
       "}\n",
       "\n",
       "let wc = wordcount()\n",
       "element.append(`Main word count: ${wc[0]} (References and appendices word count: ${wc[1]})`)\n"
      ],
      "text/plain": [
       "<IPython.core.display.Javascript object>"
      ]
     },
     "metadata": {},
     "output_type": "display_data"
    }
   ],
   "source": [
    "%%js\n",
    "\n",
    "// Run this cell to update your word count.\n",
    "\n",
    "function wordcount() {\n",
    "    let wordCount = 0\n",
    "    let extraCount = 0\n",
    "    let mainBody = true\n",
    "\n",
    "    let cells = Jupyter.notebook.get_cells()\n",
    "    cells.forEach((cell) => {\n",
    "        if (cell.cell_type == 'markdown') {\n",
    "            let text = cell.get_text()\n",
    "            // Stop counting as main body when get to References or Appendices.\n",
    "            if (text.startsWith('## References') ||\n",
    "                text.startsWith('## Appendices')) {\n",
    "                mainBody = false\n",
    "            }\n",
    "            if (text.startsWith('## Word Count')) {\n",
    "                text = ''\n",
    "            }\n",
    "            if (text) {\n",
    "                let words = text.toLowerCase().match(/\\b[a-z\\d]+\\b/g)\n",
    "                if (words) {\n",
    "                    let cellCount = words.length\n",
    "                    if (mainBody) {\n",
    "                        wordCount += cellCount\n",
    "                    } else {\n",
    "                        extraCount += cellCount\n",
    "                    }\n",
    "                }\n",
    "            }\n",
    "        }\n",
    "    })\n",
    "    return [wordCount, extraCount]\n",
    "}\n",
    "\n",
    "let wc = wordcount()\n",
    "element.append(`Main word count: ${wc[0]} (References and appendices word count: ${wc[1]})`)"
   ]
  }
 ],
 "metadata": {
  "celltoolbar": "Edit Metadata",
  "kernelspec": {
   "display_name": "Python 3 (ipykernel)",
   "language": "python",
   "name": "python3"
  },
  "language_info": {
   "codemirror_mode": {
    "name": "ipython",
    "version": 3
   },
   "file_extension": ".py",
   "mimetype": "text/x-python",
   "name": "python",
   "nbconvert_exporter": "python",
   "pygments_lexer": "ipython3",
   "version": "3.9.7"
  }
 },
 "nbformat": 4,
 "nbformat_minor": 5
}